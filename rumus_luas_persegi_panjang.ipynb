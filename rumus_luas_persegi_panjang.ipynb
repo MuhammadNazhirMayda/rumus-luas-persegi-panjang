{
  "nbformat": 4,
  "nbformat_minor": 0,
  "metadata": {
    "colab": {
      "provenance": [],
      "authorship_tag": "ABX9TyNIVQlZQVmT5cb62bcY9XzJ",
      "include_colab_link": true
    },
    "kernelspec": {
      "name": "python3",
      "display_name": "Python 3"
    },
    "language_info": {
      "name": "python"
    }
  },
  "cells": [
    {
      "cell_type": "markdown",
      "metadata": {
        "id": "view-in-github",
        "colab_type": "text"
      },
      "source": [
        "<a href=\"https://colab.research.google.com/github/MuhammadNazhirMayda/rumus-luas-persegi-panjang/blob/main/rumus_luas_persegi_panjang.ipynb\" target=\"_parent\"><img src=\"https://colab.research.google.com/assets/colab-badge.svg\" alt=\"Open In Colab\"/></a>"
      ]
    },
    {
      "cell_type": "code",
      "execution_count": null,
      "metadata": {
        "id": "_r1RisO3e7z9"
      },
      "outputs": [],
      "source": []
    },
    {
      "cell_type": "markdown",
      "source": [
        "kelompok 1"
      ],
      "metadata": {
        "id": "cYaIva1Qf7NI"
      }
    },
    {
      "cell_type": "markdown",
      "source": [],
      "metadata": {
        "id": "3wWOhARygTpo"
      }
    },
    {
      "cell_type": "code",
      "source": [
        "panjang = 50\n",
        "lebar = 20\n",
        "luas = panjang * lebar\n",
        "print (\"luas persegi panjang adalah\",luas, \"cm\")"
      ],
      "metadata": {
        "colab": {
          "base_uri": "https://localhost:8080/"
        },
        "id": "MXKpAPV4gd2E",
        "outputId": "62be50f1-b3a1-4ffe-a587-95b31bd8f7e0"
      },
      "execution_count": 1,
      "outputs": [
        {
          "output_type": "stream",
          "name": "stdout",
          "text": [
            "luas persegi panjang adalah 1000 cm\n"
          ]
        }
      ]
    }
  ]
}